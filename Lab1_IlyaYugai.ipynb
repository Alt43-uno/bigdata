{
 "cells": [
  {
   "cell_type": "markdown",
   "source": [
    "# Работа Ильи Югай AIN-1-21"
   ],
   "metadata": {
    "collapsed": false,
    "pycharm": {
     "name": "#%% md\n"
    }
   }
  },
  {
   "cell_type": "code",
   "execution_count": null,
   "outputs": [],
   "source": [
    "print(\"Hello\")"
   ],
   "metadata": {
    "collapsed": false,
    "pycharm": {
     "name": "#%%\n"
    }
   }
  },
  {
   "cell_type": "raw",
   "source": [
    "# Raw NBConvert\n",
    "45 + 59"
   ],
   "metadata": {
    "collapsed": false,
    "pycharm": {
     "name": "#%% raw\n"
    }
   }
  },
  {
   "cell_type": "code",
   "execution_count": null,
   "outputs": [],
   "source": [
    "print?"
   ],
   "metadata": {
    "collapsed": false,
    "pycharm": {
     "name": "#%%\n"
    }
   }
  },
  {
   "cell_type": "code",
   "execution_count": 7,
   "outputs": [],
   "source": [
    "i=2"
   ],
   "metadata": {
    "collapsed": false,
    "pycharm": {
     "name": "#%%\n"
    }
   }
  },
  {
   "cell_type": "code",
   "execution_count": 8,
   "outputs": [
    {
     "name": "stdout",
     "output_type": "stream",
     "text": [
      "2\n"
     ]
    }
   ],
   "source": [
    "print(i)"
   ],
   "metadata": {
    "collapsed": false,
    "pycharm": {
     "name": "#%%\n"
    }
   }
  },
  {
   "cell_type": "code",
   "execution_count": 9,
   "outputs": [],
   "source": [
    "c = i + 5"
   ],
   "metadata": {
    "collapsed": false,
    "pycharm": {
     "name": "#%%\n"
    }
   }
  },
  {
   "cell_type": "code",
   "execution_count": 10,
   "outputs": [
    {
     "name": "stdout",
     "output_type": "stream",
     "text": [
      "7\n"
     ]
    }
   ],
   "source": [
    "print(c)"
   ],
   "metadata": {
    "collapsed": false,
    "pycharm": {
     "name": "#%%\n"
    }
   }
  },
  {
   "cell_type": "code",
   "execution_count": 11,
   "outputs": [
    {
     "name": "stdout",
     "output_type": "stream",
     "text": [
      "<class 'int'>\n"
     ]
    }
   ],
   "source": [
    "a=8\n",
    "t=type(a)\n",
    "print(t)"
   ],
   "metadata": {
    "collapsed": false,
    "pycharm": {
     "name": "#%%\n"
    }
   }
  },
  {
   "cell_type": "code",
   "execution_count": 12,
   "outputs": [],
   "source": [
    "i = 4 # int"
   ],
   "metadata": {
    "collapsed": false,
    "pycharm": {
     "name": "#%%\n"
    }
   }
  },
  {
   "cell_type": "code",
   "execution_count": 13,
   "outputs": [
    {
     "data": {
      "text/plain": "int"
     },
     "execution_count": 13,
     "metadata": {},
     "output_type": "execute_result"
    }
   ],
   "source": [
    "type(i)"
   ],
   "metadata": {
    "collapsed": false,
    "pycharm": {
     "name": "#%%\n"
    }
   }
  },
  {
   "cell_type": "code",
   "execution_count": 14,
   "outputs": [],
   "source": [
    "f = 4.1 # float"
   ],
   "metadata": {
    "collapsed": false,
    "pycharm": {
     "name": "#%%\n"
    }
   }
  },
  {
   "cell_type": "code",
   "execution_count": 15,
   "outputs": [
    {
     "data": {
      "text/plain": "float"
     },
     "execution_count": 15,
     "metadata": {},
     "output_type": "execute_result"
    }
   ],
   "source": [
    "type(f)"
   ],
   "metadata": {
    "collapsed": false,
    "pycharm": {
     "name": "#%%\n"
    }
   }
  },
  {
   "cell_type": "code",
   "execution_count": 17,
   "outputs": [],
   "source": [
    "b = True # bool"
   ],
   "metadata": {
    "collapsed": false,
    "pycharm": {
     "name": "#%%\n"
    }
   }
  },
  {
   "cell_type": "code",
   "execution_count": 18,
   "outputs": [],
   "source": [
    "s = \"This is string\" # str"
   ],
   "metadata": {
    "collapsed": false,
    "pycharm": {
     "name": "#%%\n"
    }
   }
  },
  {
   "cell_type": "code",
   "execution_count": 19,
   "outputs": [
    {
     "name": "stdout",
     "output_type": "stream",
     "text": [
      "This is string\n"
     ]
    }
   ],
   "source": [
    "print(s)"
   ],
   "metadata": {
    "collapsed": false,
    "pycharm": {
     "name": "#%%\n"
    }
   }
  },
  {
   "cell_type": "markdown",
   "source": [
    "# Advanced python types"
   ],
   "metadata": {
    "collapsed": false,
    "pycharm": {
     "name": "#%% md\n"
    }
   }
  },
  {
   "cell_type": "code",
   "execution_count": 23,
   "outputs": [],
   "source": [
    "l = [2, 3, 4]"
   ],
   "metadata": {
    "collapsed": false,
    "pycharm": {
     "name": "#%%\n"
    }
   }
  },
  {
   "cell_type": "code",
   "execution_count": 24,
   "outputs": [
    {
     "name": "stdout",
     "output_type": "stream",
     "text": [
      "[2, 3, 4]\n"
     ]
    }
   ],
   "source": [
    "print(l)"
   ],
   "metadata": {
    "collapsed": false,
    "pycharm": {
     "name": "#%%\n"
    }
   }
  },
  {
   "cell_type": "code",
   "execution_count": 25,
   "outputs": [],
   "source": [
    "d = {'b':3, 'a':2}"
   ],
   "metadata": {
    "collapsed": false,
    "pycharm": {
     "name": "#%%\n"
    }
   }
  },
  {
   "cell_type": "code",
   "execution_count": 26,
   "outputs": [
    {
     "name": "stdout",
     "output_type": "stream",
     "text": [
      "{'b': 3, 'a': 2}\n"
     ]
    }
   ],
   "source": [
    "print(d)"
   ],
   "metadata": {
    "collapsed": false,
    "pycharm": {
     "name": "#%%\n"
    }
   }
  },
  {
   "cell_type": "code",
   "execution_count": 27,
   "outputs": [
    {
     "name": "stdout",
     "output_type": "stream",
     "text": [
      "3\n"
     ]
    }
   ],
   "source": [
    "print(d['b'])"
   ],
   "metadata": {
    "collapsed": false,
    "pycharm": {
     "name": "#%%\n"
    }
   }
  },
  {
   "cell_type": "code",
   "execution_count": 28,
   "outputs": [],
   "source": [
    "n = None"
   ],
   "metadata": {
    "collapsed": false,
    "pycharm": {
     "name": "#%%\n"
    }
   }
  },
  {
   "cell_type": "code",
   "execution_count": 29,
   "outputs": [
    {
     "name": "stdout",
     "output_type": "stream",
     "text": [
      "None\n"
     ]
    }
   ],
   "source": [
    "print(n)"
   ],
   "metadata": {
    "collapsed": false,
    "pycharm": {
     "name": "#%%\n"
    }
   }
  },
  {
   "cell_type": "code",
   "execution_count": 30,
   "outputs": [],
   "source": [
    "import math\n",
    "p=math.pow(10,2)"
   ],
   "metadata": {
    "collapsed": false,
    "pycharm": {
     "name": "#%%\n"
    }
   }
  },
  {
   "cell_type": "code",
   "execution_count": 32,
   "outputs": [
    {
     "name": "stdout",
     "output_type": "stream",
     "text": [
      "Возведение числа 10 в квадрат = 100.0\n"
     ]
    }
   ],
   "source": [
    "print(f\"Возведение числа 10 в квадрат = {p}\")"
   ],
   "metadata": {
    "collapsed": false,
    "pycharm": {
     "name": "#%%\n"
    }
   }
  },
  {
   "cell_type": "markdown",
   "source": [
    "# Advanced Printing"
   ],
   "metadata": {
    "collapsed": false,
    "pycharm": {
     "name": "#%% md\n"
    }
   }
  },
  {
   "cell_type": "code",
   "execution_count": 33,
   "outputs": [
    {
     "name": "stdout",
     "output_type": "stream",
     "text": [
      "Out first value is 6. Our second value is False.\n"
     ]
    }
   ],
   "source": [
    "i = 6\n",
    "n = False\n",
    "print(f\"Out first value is {i}. Our second value is {n}.\")\n"
   ],
   "metadata": {
    "collapsed": false,
    "pycharm": {
     "name": "#%%\n"
    }
   }
  },
  {
   "cell_type": "code",
   "execution_count": 35,
   "outputs": [
    {
     "name": "stdout",
     "output_type": "stream",
     "text": [
      "i or f > 4\n"
     ]
    }
   ],
   "source": [
    "i = 7\n",
    "f = 4.12\n",
    "if i == 1 and f > 4:\n",
    "    print(\"Value of i is 1 and f > 4\")\n",
    "elif i > 4 or f > 4:\n",
    "    print(\"i or f > 4\")\n",
    "else:\n",
    "    print(\"both i and f are less than 4\")"
   ],
   "metadata": {
    "collapsed": false,
    "pycharm": {
     "name": "#%%\n"
    }
   }
  },
  {
   "cell_type": "code",
   "execution_count": 36,
   "outputs": [
    {
     "name": "stdout",
     "output_type": "stream",
     "text": [
      "[1, 2, 3, 4]\n"
     ]
    }
   ],
   "source": [
    "l = [1,2,3,4]\n",
    "print(l)"
   ],
   "metadata": {
    "collapsed": false,
    "pycharm": {
     "name": "#%%\n"
    }
   }
  },
  {
   "cell_type": "code",
   "execution_count": 37,
   "outputs": [
    {
     "name": "stdout",
     "output_type": "stream",
     "text": [
      "1\n",
      "2\n",
      "3\n",
      "4\n"
     ]
    }
   ],
   "source": [
    "for e in l:\n",
    "    print(e)"
   ],
   "metadata": {
    "collapsed": false,
    "pycharm": {
     "name": "#%%\n"
    }
   }
  },
  {
   "cell_type": "code",
   "execution_count": 38,
   "outputs": [
    {
     "name": "stdout",
     "output_type": "stream",
     "text": [
      "Числа от 0 до 99: 0\n",
      "Числа от 0 до 99: 1\n",
      "Числа от 0 до 99: 2\n",
      "Числа от 0 до 99: 3\n",
      "Числа от 0 до 99: 4\n",
      "Числа от 0 до 99: 5\n",
      "Числа от 0 до 99: 6\n",
      "Числа от 0 до 99: 7\n",
      "Числа от 0 до 99: 8\n",
      "Числа от 0 до 99: 9\n",
      "Числа от 0 до 99: 10\n",
      "Числа от 0 до 99: 11\n",
      "Числа от 0 до 99: 12\n",
      "Числа от 0 до 99: 13\n",
      "Числа от 0 до 99: 14\n",
      "Числа от 0 до 99: 15\n",
      "Числа от 0 до 99: 16\n",
      "Числа от 0 до 99: 17\n",
      "Числа от 0 до 99: 18\n",
      "Числа от 0 до 99: 19\n",
      "Числа от 0 до 99: 20\n",
      "Числа от 0 до 99: 21\n",
      "Числа от 0 до 99: 22\n",
      "Числа от 0 до 99: 23\n",
      "Числа от 0 до 99: 24\n",
      "Числа от 0 до 99: 25\n",
      "Числа от 0 до 99: 26\n",
      "Числа от 0 до 99: 27\n",
      "Числа от 0 до 99: 28\n",
      "Числа от 0 до 99: 29\n",
      "Числа от 0 до 99: 30\n",
      "Числа от 0 до 99: 31\n",
      "Числа от 0 до 99: 32\n",
      "Числа от 0 до 99: 33\n",
      "Числа от 0 до 99: 34\n",
      "Числа от 0 до 99: 35\n",
      "Числа от 0 до 99: 36\n",
      "Числа от 0 до 99: 37\n",
      "Числа от 0 до 99: 38\n",
      "Числа от 0 до 99: 39\n",
      "Числа от 0 до 99: 40\n",
      "Числа от 0 до 99: 41\n",
      "Числа от 0 до 99: 42\n",
      "Числа от 0 до 99: 43\n",
      "Числа от 0 до 99: 44\n",
      "Числа от 0 до 99: 45\n",
      "Числа от 0 до 99: 46\n",
      "Числа от 0 до 99: 47\n",
      "Числа от 0 до 99: 48\n",
      "Числа от 0 до 99: 49\n",
      "Числа от 0 до 99: 50\n",
      "Числа от 0 до 99: 51\n",
      "Числа от 0 до 99: 52\n",
      "Числа от 0 до 99: 53\n",
      "Числа от 0 до 99: 54\n",
      "Числа от 0 до 99: 55\n",
      "Числа от 0 до 99: 56\n",
      "Числа от 0 до 99: 57\n",
      "Числа от 0 до 99: 58\n",
      "Числа от 0 до 99: 59\n",
      "Числа от 0 до 99: 60\n",
      "Числа от 0 до 99: 61\n",
      "Числа от 0 до 99: 62\n",
      "Числа от 0 до 99: 63\n",
      "Числа от 0 до 99: 64\n",
      "Числа от 0 до 99: 65\n",
      "Числа от 0 до 99: 66\n",
      "Числа от 0 до 99: 67\n",
      "Числа от 0 до 99: 68\n",
      "Числа от 0 до 99: 69\n",
      "Числа от 0 до 99: 70\n",
      "Числа от 0 до 99: 71\n",
      "Числа от 0 до 99: 72\n",
      "Числа от 0 до 99: 73\n",
      "Числа от 0 до 99: 74\n",
      "Числа от 0 до 99: 75\n",
      "Числа от 0 до 99: 76\n",
      "Числа от 0 до 99: 77\n",
      "Числа от 0 до 99: 78\n",
      "Числа от 0 до 99: 79\n",
      "Числа от 0 до 99: 80\n",
      "Числа от 0 до 99: 81\n",
      "Числа от 0 до 99: 82\n",
      "Числа от 0 до 99: 83\n",
      "Числа от 0 до 99: 84\n",
      "Числа от 0 до 99: 85\n",
      "Числа от 0 до 99: 86\n",
      "Числа от 0 до 99: 87\n",
      "Числа от 0 до 99: 88\n",
      "Числа от 0 до 99: 89\n",
      "Числа от 0 до 99: 90\n",
      "Числа от 0 до 99: 91\n",
      "Числа от 0 до 99: 92\n",
      "Числа от 0 до 99: 93\n",
      "Числа от 0 до 99: 94\n",
      "Числа от 0 до 99: 95\n",
      "Числа от 0 до 99: 96\n",
      "Числа от 0 до 99: 97\n",
      "Числа от 0 до 99: 98\n"
     ]
    }
   ],
   "source": [
    "for n in range(99):\n",
    "    print(f\"Числа от 0 до 99: {n}\")"
   ],
   "metadata": {
    "collapsed": false,
    "pycharm": {
     "name": "#%%\n"
    }
   }
  },
  {
   "cell_type": "code",
   "execution_count": 39,
   "outputs": [],
   "source": [
    "import time"
   ],
   "metadata": {
    "collapsed": false,
    "pycharm": {
     "name": "#%%\n"
    }
   }
  },
  {
   "cell_type": "code",
   "execution_count": 41,
   "outputs": [
    {
     "name": "stdout",
     "output_type": "stream",
     "text": [
      "число:  0\n",
      "число:  1\n",
      "число:  2\n",
      "число:  3\n",
      "число:  4\n",
      "число:  5\n",
      "число:  6\n",
      "число:  7\n",
      "число:  8\n"
     ]
    }
   ],
   "source": [
    "for n in range(9):\n",
    "    time.sleep(1)\n",
    "    print(\"число: \", n)"
   ],
   "metadata": {
    "collapsed": false,
    "pycharm": {
     "name": "#%%\n"
    }
   }
  },
  {
   "cell_type": "code",
   "execution_count": 49,
   "outputs": [
    {
     "name": "stdout",
     "output_type": "stream",
     "text": [
      "3\n",
      "4\n",
      "5\n",
      "6\n",
      "7\n",
      "8\n",
      "9\n"
     ]
    }
   ],
   "source": [
    "c = 3\n",
    "while c < 10:\n",
    "    print(c)\n",
    "    c+=1"
   ],
   "metadata": {
    "collapsed": false,
    "pycharm": {
     "name": "#%%\n"
    }
   }
  },
  {
   "cell_type": "markdown",
   "source": [
    "# Functions"
   ],
   "metadata": {
    "collapsed": false,
    "pycharm": {
     "name": "#%% md\n"
    }
   }
  },
  {
   "cell_type": "code",
   "execution_count": 44,
   "outputs": [],
   "source": [
    "def add2(x):\n",
    "    y = x + 2\n",
    "    return y"
   ],
   "metadata": {
    "collapsed": false,
    "pycharm": {
     "name": "#%%\n"
    }
   }
  },
  {
   "cell_type": "code",
   "execution_count": 45,
   "outputs": [],
   "source": [
    "i = 2"
   ],
   "metadata": {
    "collapsed": false,
    "pycharm": {
     "name": "#%%\n"
    }
   }
  },
  {
   "cell_type": "code",
   "execution_count": 46,
   "outputs": [
    {
     "data": {
      "text/plain": "4"
     },
     "execution_count": 46,
     "metadata": {},
     "output_type": "execute_result"
    }
   ],
   "source": [
    "add2(i)"
   ],
   "metadata": {
    "collapsed": false,
    "pycharm": {
     "name": "#%%\n"
    }
   }
  },
  {
   "cell_type": "code",
   "execution_count": 50,
   "outputs": [],
   "source": [
    "square = lambda x: x**3"
   ],
   "metadata": {
    "collapsed": false,
    "pycharm": {
     "name": "#%%\n"
    }
   }
  },
  {
   "cell_type": "code",
   "execution_count": 51,
   "outputs": [
    {
     "data": {
      "text/plain": "125"
     },
     "execution_count": 51,
     "metadata": {},
     "output_type": "execute_result"
    }
   ],
   "source": [
    "square(5)"
   ],
   "metadata": {
    "collapsed": false,
    "pycharm": {
     "name": "#%%\n"
    }
   }
  },
  {
   "cell_type": "code",
   "execution_count": 52,
   "outputs": [],
   "source": [
    "x = lambda a,b: a*b+2"
   ],
   "metadata": {
    "collapsed": false,
    "pycharm": {
     "name": "#%%\n"
    }
   }
  },
  {
   "cell_type": "code",
   "execution_count": 53,
   "outputs": [
    {
     "name": "stdout",
     "output_type": "stream",
     "text": [
      "37\n"
     ]
    }
   ],
   "source": [
    "print(x(5,7))"
   ],
   "metadata": {
    "collapsed": false,
    "pycharm": {
     "name": "#%%\n"
    }
   }
  },
  {
   "cell_type": "code",
   "execution_count": 54,
   "outputs": [],
   "source": [
    "x = lambda a,b,c: a+b+c"
   ],
   "metadata": {
    "collapsed": false,
    "pycharm": {
     "name": "#%%\n"
    }
   }
  },
  {
   "cell_type": "code",
   "execution_count": 55,
   "outputs": [
    {
     "name": "stdout",
     "output_type": "stream",
     "text": [
      "6\n"
     ]
    }
   ],
   "source": [
    "print(x(1,3,2))"
   ],
   "metadata": {
    "collapsed": false,
    "pycharm": {
     "name": "#%%\n"
    }
   }
  },
  {
   "cell_type": "markdown",
   "source": [
    "<h1>GG</h1>\n",
    "<h2>GG</h2>\n",
    "<h3>GG</h3>\n",
    "<h4>GG</h4>\n",
    "<h5>GG</h5>\n",
    "<h6>GG</h6>"
   ],
   "metadata": {
    "collapsed": false,
    "pycharm": {
     "name": "#%% md\n"
    }
   }
  },
  {
   "cell_type": "markdown",
   "source": [
    "<img src=\"http://lms.inai.kg/FileStorage/setting/UserProfile/272.png\" width=\"100%\">"
   ],
   "metadata": {
    "collapsed": false,
    "pycharm": {
     "name": "#%% md\n"
    }
   }
  },
  {
   "cell_type": "markdown",
   "source": [
    "\\begin{equation*}\n",
    "\\left(sum_{k=1}^n a_k b_k\\right)^2\n",
    "\\end{equation*}"
   ],
   "metadata": {
    "collapsed": false,
    "pycharm": {
     "name": "#%% md\n"
    }
   }
  },
  {
   "cell_type": "markdown",
   "source": [
    "\\begin{equation*}\n",
    "\\(E=mc^2\\)\n",
    "\\end{equation*}"
   ],
   "metadata": {
    "collapsed": false,
    "pycharm": {
     "name": "#%% md\n"
    }
   }
  },
  {
   "cell_type": "markdown",
   "source": [
    "# Console Commands"
   ],
   "metadata": {
    "collapsed": false,
    "pycharm": {
     "name": "#%% md\n"
    }
   }
  },
  {
   "cell_type": "code",
   "execution_count": 67,
   "outputs": [
    {
     "name": "stdout",
     "output_type": "stream",
     "text": [
      "\n",
      "Ќ бва®©Є  Їа®в®Є®«  IP ¤«п Windows\n",
      "\n",
      "\n",
      "Ђ¤ ЇвҐа Ethernet Ethernet:\n",
      "\n",
      "   ‘®бв®п­ЁҐ баҐ¤л. . . . . . . . : ‘аҐ¤  ЇҐаҐ¤ зЁ ­Ґ¤®бвгЇ­ .\n",
      "   DNS-бгддЁЄб Ї®¤Є«озҐ­Ёп . . . . . : \n",
      "\n",
      "ЌҐЁ§ўҐбв­л©  ¤ ЇвҐа Џ®¤Є«озҐ­ЁҐ Ї® «®Є «м­®© бҐвЁ 2:\n",
      "\n",
      "   ‘®бв®п­ЁҐ баҐ¤л. . . . . . . . : ‘аҐ¤  ЇҐаҐ¤ зЁ ­Ґ¤®бвгЇ­ .\n",
      "   DNS-бгддЁЄб Ї®¤Є«озҐ­Ёп . . . . . : \n",
      "\n",
      "Ђ¤ ЇвҐа Ethernet Ethernet 2:\n",
      "\n",
      "   ‘®бв®п­ЁҐ баҐ¤л. . . . . . . . : ‘аҐ¤  ЇҐаҐ¤ зЁ ­Ґ¤®бвгЇ­ .\n",
      "   DNS-бгддЁЄб Ї®¤Є«озҐ­Ёп . . . . . : \n",
      "\n",
      "Ђ¤ ЇвҐа Ethernet Ethernet 3:\n",
      "\n",
      "   DNS-бгддЁЄб Ї®¤Є«озҐ­Ёп . . . . . : \n",
      "   ‹®Є «м­л© IPv6- ¤аҐб Є ­ «  . . . : fe80::63c7:ea9c:24b4:57c4%9\n",
      "   IPv4- ¤аҐб. . . . . . . . . . . . : 192.168.56.1\n",
      "   Њ бЄ  Ї®¤бҐвЁ . . . . . . . . . . : 255.255.255.0\n",
      "   Ћб­®ў­®© и«о§. . . . . . . . . : \n",
      "\n",
      "ЌҐЁ§ўҐбв­л©  ¤ ЇвҐа Џ®¤Є«озҐ­ЁҐ Ї® «®Є «м­®© бҐвЁ:\n",
      "\n",
      "   ‘®бв®п­ЁҐ баҐ¤л. . . . . . . . : ‘аҐ¤  ЇҐаҐ¤ зЁ ­Ґ¤®бвгЇ­ .\n",
      "   DNS-бгддЁЄб Ї®¤Є«озҐ­Ёп . . . . . : \n",
      "\n",
      "Ђ¤ ЇвҐа ЎҐбЇа®ў®¤­®© «®Є «м­®© бҐвЁ Local Area Connection* 1:\n",
      "\n",
      "   ‘®бв®п­ЁҐ баҐ¤л. . . . . . . . : ‘аҐ¤  ЇҐаҐ¤ зЁ ­Ґ¤®бвгЇ­ .\n",
      "   DNS-бгддЁЄб Ї®¤Є«озҐ­Ёп . . . . . : \n",
      "\n",
      "Ђ¤ ЇвҐа ЎҐбЇа®ў®¤­®© «®Є «м­®© бҐвЁ Local Area Connection* 2:\n",
      "\n",
      "   ‘®бв®п­ЁҐ баҐ¤л. . . . . . . . : ‘аҐ¤  ЇҐаҐ¤ зЁ ­Ґ¤®бвгЇ­ .\n",
      "   DNS-бгддЁЄб Ї®¤Є«озҐ­Ёп . . . . . : \n",
      "\n",
      "Ђ¤ ЇвҐа ЎҐбЇа®ў®¤­®© «®Є «м­®© бҐвЁ Wi-Fi:\n",
      "\n",
      "   DNS-бгддЁЄб Ї®¤Є«озҐ­Ёп . . . . . : \n",
      "   IPv4- ¤аҐб. . . . . . . . . . . . : 172.20.10.2\n",
      "   Њ бЄ  Ї®¤бҐвЁ . . . . . . . . . . : 255.255.255.240\n",
      "   Ћб­®ў­®© и«о§. . . . . . . . . : 172.20.10.1\n"
     ]
    }
   ],
   "source": [
    "! ipconfig"
   ],
   "metadata": {
    "collapsed": false,
    "pycharm": {
     "name": "#%%\n"
    }
   }
  },
  {
   "cell_type": "code",
   "execution_count": null,
   "outputs": [],
   "source": [
    "! ping google.com"
   ],
   "metadata": {
    "collapsed": false,
    "pycharm": {
     "name": "#%%\n",
     "is_executing": true
    }
   }
  },
  {
   "cell_type": "code",
   "execution_count": null,
   "outputs": [],
   "source": [],
   "metadata": {
    "collapsed": false,
    "pycharm": {
     "name": "#%%\n"
    }
   }
  }
 ],
 "metadata": {
  "kernelspec": {
   "display_name": "Python 3",
   "language": "python",
   "name": "python3"
  },
  "language_info": {
   "codemirror_mode": {
    "name": "ipython",
    "version": 2
   },
   "file_extension": ".py",
   "mimetype": "text/x-python",
   "name": "python",
   "nbconvert_exporter": "python",
   "pygments_lexer": "ipython2",
   "version": "2.7.6"
  }
 },
 "nbformat": 4,
 "nbformat_minor": 0
}